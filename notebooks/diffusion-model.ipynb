{
 "cells": [
  {
   "cell_type": "markdown",
   "id": "a20456d2-f710-4262-bc5e-bf72ffad7761",
   "metadata": {},
   "source": [
    "# A 1 D diffusion model"
   ]
  },
  {
   "cell_type": "markdown",
   "id": "f8f1e201-1930-4ec4-92d8-c3fe25834807",
   "metadata": {},
   "source": [
    "Here we develop a one-dimensional model of diffusion. \n",
    "It assumes a constant diffusivity. \n",
    "It uses a regular grid. \n",
    "It has fixed boundary conditions"
   ]
  },
  {
   "cell_type": "markdown",
   "id": "298c73ec-0569-47c4-bdc1-097fd5c1205a",
   "metadata": {},
   "source": [
    "The diffusion equation:\n",
    "$$ \\frac{\\partial C}{\\partial t} = D\\frac{\\partial^2 C}{\\partial x^2} $$\n",
    "The discretized version of the diffusion equation that we'll solve with our model:\n",
    "$$ C^{t+1}_x = C^t_x + {D \\Delta t \\over \\Delta x^2} (C^t_{x+1} - 2C^t_x + C^t_{x-1}) $$\n",
    "This is the explicit FTCS scheme as described in Slingerland and Kump (2011). (Or see Wikipedia.)\n"
   ]
  },
  {
   "cell_type": "markdown",
   "id": "63505c8b-e8e6-40f1-8ee3-bdc0af8efafc",
   "metadata": {},
   "source": [
    "We will use two libraries, Numpy (for arrays) and Matplotlib (for plotting) that aren't a part of the base Python distribution."
   ]
  },
  {
   "cell_type": "code",
   "execution_count": null,
   "id": "301f6049-7005-428d-9e76-bb9428bd98d2",
   "metadata": {},
   "outputs": [],
   "source": [
    "import numpy as np"
   ]
  },
  {
   "cell_type": "code",
   "execution_count": null,
   "id": "641afada-8e3c-4297-941d-d235329acf35",
   "metadata": {},
   "outputs": [],
   "source": [
    "import matplotlib.pyplot as plt"
   ]
  },
  {
   "cell_type": "markdown",
   "id": "431c6cd0-8db1-474c-b15d-89f2809cd71b",
   "metadata": {},
   "source": [
    "Set two fixed model parameters, the diffusivity and the size of the model domain."
   ]
  },
  {
   "cell_type": "code",
   "execution_count": null,
   "id": "99ae72e0-12b5-4844-a803-3e070ddcee03",
   "metadata": {},
   "outputs": [],
   "source": [
    "D = 100\n",
    "Lx = 300"
   ]
  },
  {
   "cell_type": "markdown",
   "id": "c4ca49b4-e800-416f-a22f-1e75845a11f8",
   "metadata": {},
   "source": [
    "Next, set up the model grid using a NumPy array."
   ]
  },
  {
   "cell_type": "code",
   "execution_count": null,
   "id": "d585cce2-e7e2-438b-a662-68dc1f417b4f",
   "metadata": {},
   "outputs": [],
   "source": [
    "dx = 0.5\n",
    "x = np.arange(start=0, stop=Lx, step=dx)\n",
    "nx = len(x)"
   ]
  },
  {
   "cell_type": "code",
   "execution_count": null,
   "id": "b07c03d7-7b00-428d-9e07-44a3c6297082",
   "metadata": {},
   "outputs": [],
   "source": [
    "whos"
   ]
  },
  {
   "cell_type": "code",
   "execution_count": null,
   "id": "86abcbf8-008b-4762-a310-daaf426928af",
   "metadata": {},
   "outputs": [],
   "source": [
    "x[0]"
   ]
  },
  {
   "cell_type": "code",
   "execution_count": null,
   "id": "9522562b-230c-46f2-b4b4-b1b46212d976",
   "metadata": {},
   "outputs": [],
   "source": [
    "x[-1]"
   ]
  },
  {
   "cell_type": "code",
   "execution_count": null,
   "id": "d76d24f0-e52d-4efb-a975-3c3c18162b60",
   "metadata": {},
   "outputs": [],
   "source": [
    "x[0:5]"
   ]
  },
  {
   "cell_type": "markdown",
   "id": "11fc5868-f8be-4b28-bd3c-36b694f88bc6",
   "metadata": {},
   "source": [
    "Set the initial concentration profile for the model. \n",
    "The concentration `C` is a step function with a high value on the left, a low value on the right, and the step at the center of the domain."
   ]
  },
  {
   "cell_type": "code",
   "execution_count": null,
   "id": "703d866a-0725-4b76-9c24-09ffff69723d",
   "metadata": {},
   "outputs": [],
   "source": [
    "C = np.zeros_like(x)\n",
    "C_left = 500\n",
    "C_right = 0\n",
    "C[x<=Lx//2] = C_left\n",
    "C[x>Lx//2] = C_right"
   ]
  },
  {
   "cell_type": "markdown",
   "id": "0c2e6d9a-4712-4f75-b1e3-604fb16a6fea",
   "metadata": {},
   "source": [
    "Plot the initial profile"
   ]
  },
  {
   "cell_type": "code",
   "execution_count": null,
   "id": "cd9e2227-f48a-406d-99e6-b3505513e885",
   "metadata": {},
   "outputs": [],
   "source": [
    "plt.figure()\n",
    "plt.plot(x,C,\"r\")\n",
    "plt.xlabel(\"x\")\n",
    "plt.title(\"Initial concentration profile\")"
   ]
  },
  {
   "cell_type": "markdown",
   "id": "84518a24-0d5e-460d-8ec7-4f868393e290",
   "metadata": {},
   "source": [
    "Set the start time of the mdoel and the number of the time steps. Calculate a stable time step for the model using a stability criterion. "
   ]
  },
  {
   "cell_type": "code",
   "execution_count": null,
   "id": "0a971fb9-2dec-4ea6-bb8f-7bdb91db0e17",
   "metadata": {},
   "outputs": [],
   "source": [
    "time = 0\n",
    "nt = 5000\n",
    "dt = 0.5 * (dx**2/D)"
   ]
  },
  {
   "cell_type": "code",
   "execution_count": null,
   "id": "3a94041d-daaf-4464-868d-f20bf96eb48d",
   "metadata": {},
   "outputs": [],
   "source": [
    "dt"
   ]
  },
  {
   "cell_type": "markdown",
   "id": "5b5bdb61-eefd-4531-8de2-4d85ee0e9cfb",
   "metadata": {},
   "source": [
    "Loop over the time steps of the model, solving the diffusion equation using the FTCS explicit scheme described above.\n",
    "The boundary conditions are fixed, so reset them at each time step."
   ]
  },
  {
   "cell_type": "code",
   "execution_count": null,
   "id": "0325dd6e-e9e4-4a3f-9556-a69fa6212b3c",
   "metadata": {},
   "outputs": [],
   "source": [
    "for t in range(0, nt):\n",
    "    C+= D * dt / dx**2 * (np.roll(C, -1) -2*C + np.roll(C,1))\n",
    "    C[0] = C_left\n",
    "    C[-1] = C_right"
   ]
  },
  {
   "cell_type": "code",
   "execution_count": null,
   "id": "fc52d60e-8964-4906-855a-e9bd195a1855",
   "metadata": {},
   "outputs": [],
   "source": [
    "plt.figure()\n",
    "plt.plot(x,C,\"b\")\n",
    "plt.xlabel(\"x\")\n",
    "plt.title(\"C\")\n",
    "plt.title(\"Final concentration profile\")"
   ]
  },
  {
   "cell_type": "code",
   "execution_count": null,
   "id": "02085cc4-abaf-4658-aef1-5c7933b7b0b7",
   "metadata": {},
   "outputs": [],
   "source": []
  }
 ],
 "metadata": {
  "kernelspec": {
   "display_name": "CSDMS",
   "language": "python",
   "name": "csdms"
  },
  "language_info": {
   "codemirror_mode": {
    "name": "ipython",
    "version": 3
   },
   "file_extension": ".py",
   "mimetype": "text/x-python",
   "name": "python",
   "nbconvert_exporter": "python",
   "pygments_lexer": "ipython3",
   "version": "3.12.7"
  }
 },
 "nbformat": 4,
 "nbformat_minor": 5
}
